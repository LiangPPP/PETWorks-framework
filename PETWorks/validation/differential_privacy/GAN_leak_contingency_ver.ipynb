{
 "cells": [
  {
   "cell_type": "code",
   "execution_count": 2,
   "id": "5f93a1c6",
   "metadata": {},
   "outputs": [],
   "source": [
    "from sklearn import metrics\n",
    "from tqdm import tqdm\n",
    "\n",
    "import matplotlib.pyplot as plt\n",
    "import pandas as pd\n",
    "import numpy as np\n",
    "import itertools\n",
    "import swifter\n",
    "import random\n",
    "import math\n",
    "import time\n",
    "import copy\n",
    "import os\n"
   ]
  },
  {
   "cell_type": "markdown",
   "id": "9c7280aa",
   "metadata": {},
   "source": [
    "# <font color='blue'>Input testing files (Numerical data)</font>"
   ]
  },
  {
   "cell_type": "code",
   "execution_count": 3,
   "id": "dc9677e9",
   "metadata": {},
   "outputs": [],
   "source": [
    "real_data = pd.read_csv('NHANES.csv')\n",
    "synthetic_data = pd.read_csv('synthetic_NHANES.csv')\n",
    "epsilon = 10.0"
   ]
  },
  {
   "cell_type": "code",
   "execution_count": 4,
   "id": "1aa5e682",
   "metadata": {},
   "outputs": [
    {
     "name": "stdout",
     "output_type": "stream",
     "text": [
      "  RIAGENDR  RIDAGEYR RIDRETH1    DMDEDUC2  DMDMARTL  BMXBMI DPQ020 INDFMMPI  \\\n",
      "0   Female        66    Black        11th  Divorced      32      F        T   \n",
      "1   Female        66    Other         9th   Married      24      F        F   \n",
      "2   Female        75    Black     College   Widowed      39      F        T   \n",
      "3     Male        56    Other    Graduate   Married      21      F        F   \n",
      "4     Male        67    White  HighSchool  Divorced      24      T        F   \n",
      "\n",
      "   LBXGH  METS QMETS finflg  \n",
      "0      6   480    Q2      F  \n",
      "1      6   600    Q2      F  \n",
      "2      6  1440    Q3      F  \n",
      "3      6  3360    Q3      F  \n",
      "4      6  1080    Q2      F  \n",
      "  RIAGENDR  RIDAGEYR RIDRETH1 DMDEDUC2 DMDMARTL  BMXBMI DPQ020 INDFMMPI  \\\n",
      "0     Male        67    White  College  Married      28      F        F   \n",
      "1     Male        56    White  College  Married      30      F        F   \n",
      "2   Female        62    White  College  Married      28      F        F   \n",
      "3     Male        59    White  College  Married      32      F        F   \n",
      "4   Female        60    White  College  Married      33      F        F   \n",
      "\n",
      "   LBXGH  METS QMETS finflg  \n",
      "0      6  5259    Q4      F  \n",
      "1      5   671    Q4      F  \n",
      "2      7  2481    Q1      F  \n",
      "3     16  1128    Q3      T  \n",
      "4      8   227    Q4      F  \n"
     ]
    }
   ],
   "source": [
    "strategy = \"Half\"\n",
    "set_bucket = 10\n",
    "simulate_input_real = True\n",
    "data_size = real_data.shape[0]\n",
    "print(real_data.head(5))\n",
    "print(synthetic_data.head(5))"
   ]
  },
  {
   "cell_type": "markdown",
   "id": "f4de8c89",
   "metadata": {},
   "source": [
    "## <font color='blue'>Get data information</font>"
   ]
  },
  {
   "cell_type": "code",
   "execution_count": 5,
   "id": "824a5db8",
   "metadata": {},
   "outputs": [],
   "source": [
    "def return_basic_info(dataset, num_bucket=10, num2cat_threshold=1):\n",
    "    attr_name = dataset.keys().tolist()\n",
    "    attr_basic_info = {}\n",
    "    for attr in attr_name:\n",
    "        attr_basic_info[attr] = {}\n",
    "        name_v = dataset[attr].value_counts().index.tolist()\n",
    "        max_v = len(name_v)\n",
    "\n",
    "        if max_v <= 1:\n",
    "            attr_basic_info[attr]['type'] = 'single'\n",
    "            print(attr)\n",
    "            del name_v, max_v\n",
    "            continue\n",
    "        if (dataset[attr].dtypes == 'int64' or dataset[attr].dtypes == 'int') or (dataset[attr].dtypes == 'float64' or dataset[attr].dtypes == 'float'):\n",
    "            if max_v <= num2cat_threshold:\n",
    "                attr_basic_info[attr]['type'] = 'num2cat'\n",
    "            else:\n",
    "                attr_basic_info[attr]['type'] = 'num'\n",
    "                bucket_size = (max(name_v) - min(name_v))/num_bucket\n",
    "                bucket = []\n",
    "                tmp_value = min(name_v) + bucket_size\n",
    "                bucket.append([min(name_v), tmp_value])\n",
    "                for box_id in range(num_bucket-2):\n",
    "                    bucket.append([tmp_value, tmp_value+bucket_size])\n",
    "                    tmp_value += bucket_size\n",
    "                bucket.append([tmp_value, max(name_v)+(1.e-9)])\n",
    "                attr_basic_info[attr]['bucket'] = bucket\n",
    "                del bucket_size, tmp_value, bucket\n",
    "        else:\n",
    "            attr_basic_info[attr]['type'] = 'cat'\n",
    "    return attr_basic_info, attr_name"
   ]
  },
  {
   "cell_type": "code",
   "execution_count": 6,
   "id": "f77dae97",
   "metadata": {},
   "outputs": [
    {
     "name": "stdout",
     "output_type": "stream",
     "text": [
      "{'RIAGENDR': {'type': 'cat'}, 'RIDAGEYR': {'type': 'num', 'bucket': [[20, 26.0], [26.0, 32.0], [32.0, 38.0], [38.0, 44.0], [44.0, 50.0], [50.0, 56.0], [56.0, 62.0], [62.0, 68.0], [68.0, 74.0], [74.0, 80.000000001]]}, 'RIDRETH1': {'type': 'cat'}, 'DMDEDUC2': {'type': 'cat'}, 'DMDMARTL': {'type': 'cat'}, 'BMXBMI': {'type': 'num', 'bucket': [[14, 21.0], [21.0, 28.0], [28.0, 35.0], [35.0, 42.0], [42.0, 49.0], [49.0, 56.0], [56.0, 63.0], [63.0, 70.0], [70.0, 77.0], [77.0, 84.000000001]]}, 'DPQ020': {'type': 'cat'}, 'INDFMMPI': {'type': 'cat'}, 'LBXGH': {'type': 'num', 'bucket': [[4, 5.2], [5.2, 6.4], [6.4, 7.6000000000000005], [7.6000000000000005, 8.8], [8.8, 10.0], [10.0, 11.2], [11.2, 12.399999999999999], [12.399999999999999, 13.599999999999998], [13.599999999999998, 14.799999999999997], [14.799999999999997, 16.000000001]]}, 'METS': {'type': 'num', 'bucket': [[0, 5832.0], [5832.0, 11664.0], [11664.0, 17496.0], [17496.0, 23328.0], [23328.0, 29160.0], [29160.0, 34992.0], [34992.0, 40824.0], [40824.0, 46656.0], [46656.0, 52488.0], [52488.0, 58320.000000001]]}, 'QMETS': {'type': 'cat'}, 'finflg': {'type': 'cat'}}\n"
     ]
    }
   ],
   "source": [
    "basic_info, attr_name = return_basic_info(real_data, num_bucket=set_bucket)\n",
    "print(basic_info)"
   ]
  },
  {
   "cell_type": "markdown",
   "id": "bbb7d1d3",
   "metadata": {},
   "source": [
    "## <font color='blue'>Data preprocessing (Bucketization)</font>"
   ]
  },
  {
   "cell_type": "code",
   "execution_count": 7,
   "id": "e79468c3",
   "metadata": {},
   "outputs": [],
   "source": [
    "def value_dispatch(v, conditions):\n",
    "    v_tag = 0\n",
    "    if ((conditions[0][0] == conditions[0][1]) and (v == conditions[0][1])) or (v < conditions[0][1]):\n",
    "        return v_tag\n",
    "    v_tag = 1\n",
    "    distance = v - conditions[0][1]\n",
    "    for condition in conditions[1:]:\n",
    "        if v >= condition[0]:\n",
    "            if ((condition[0] == condition[1]) and (v == condition[0])) or (v < condition[1]):\n",
    "                return v_tag\n",
    "            else:\n",
    "                v_tag += 1\n",
    "                distance = v - condition[1]\n",
    "        elif (condition[0] - v) > distance:\n",
    "            return (v_tag - 1)\n",
    "        else:\n",
    "            return v_tag\n",
    "    return (v_tag - 1)\n",
    "\n",
    "def preprocess(dataset, attr_basic_info):\n",
    "    raw_data = dataset\n",
    "\n",
    "    attr_name = raw_data.keys().tolist()\n",
    "    attr_info_max = {}\n",
    "    specs_mapping = {}\n",
    "    specs_mapping['single_attr'] = {}\n",
    "\n",
    "    for attr in attr_name:\n",
    "        attr_info_max[attr] = {}\n",
    "        specs_mapping[attr] = {}\n",
    "        if attr_basic_info[attr]['type'] == 'num':\n",
    "            if raw_data[attr].dtypes == 'int64' or raw_data[attr].dtypes == 'int':\n",
    "                specs_mapping[attr]['num-type'] = 'int'\n",
    "            else:\n",
    "                specs_mapping[attr]['num-type'] = 'float'\n",
    "            #conditions = reconstruct(attr_basic_info[attr]['bucket'])\n",
    "            conditions = copy.deepcopy(attr_basic_info[attr]['bucket'])\n",
    "            raw_data[attr] = raw_data[attr].swifter.apply(value_dispatch, args=(conditions,))\n",
    "            attr_info_max[attr]['max'] = len(attr_basic_info[attr]['bucket']) - 1\n",
    "            specs_mapping[attr]['optional'] = 0\n",
    "            print(attr, 'is bucketized with bucket_size:', attr_info_max[attr]['max'])\n",
    "        elif (attr_basic_info[attr]['type'] == 'cat') or (attr_basic_info[attr]['type'] == 'num2cat'):\n",
    "            specs_mapping[attr]['dict'] =  {}\n",
    "            name_v = raw_data[attr].value_counts().index.tolist()\n",
    "            max_v = len(name_v)\n",
    "            specs_mapping[attr]['count'] =  max_v\n",
    "            attr_info_max[attr]['max'] = max_v - 1\n",
    "            specs_mapping[attr]['optional'] = 0\n",
    "            float_v = False\n",
    "            if raw_data[attr].dtypes == 'float64' or raw_data[attr].dtypes == 'float':\n",
    "                float_v = True\n",
    "            raw_data[attr] = raw_data[attr].astype('str')\n",
    "            name_v = raw_data[attr].value_counts().index.tolist()\n",
    "            max_v = len(name_v)\n",
    "            name_v.sort()\n",
    "            for idx in range(max_v):\n",
    "                raw_data[attr].replace(name_v[idx], idx, inplace = True)\n",
    "                specs_mapping[attr]['dict'][str(idx)] = name_v[idx]\n",
    "            if (attr_basic_info[attr]['type'] == 'num2cat') and float_v:\n",
    "                raw_data[attr] = raw_data[attr].astype('float')\n",
    "            raw_data[attr] = raw_data[attr].astype('int')\n",
    "            del name_v, max_v\n",
    "            print(attr, 'is categorical with dict_size:', attr_info_max[attr]['max'])\n",
    "        else:\n",
    "            if len(raw_data[attr].value_counts().index.tolist()) == 0:\n",
    "                specs_mapping['single_attr'][attr] = np.nan\n",
    "            else:\n",
    "                specs_mapping['single_attr'][attr] = raw_data[attr].value_counts().index.tolist()[0]\n",
    "            del raw_data[attr], attr_info_max[attr]\n",
    "            print(attr, 'is a singel-value attribute')\n",
    "    print()\n",
    "    print('[Info] Execution ----- completed')\n",
    "    del attr_name, specs_mapping\n",
    "    return raw_data, attr_info_max"
   ]
  },
  {
   "cell_type": "code",
   "execution_count": 8,
   "id": "3e077cc3",
   "metadata": {},
   "outputs": [
    {
     "name": "stdout",
     "output_type": "stream",
     "text": [
      "RIAGENDR is categorical with dict_size: 1\n"
     ]
    },
    {
     "data": {
      "application/vnd.jupyter.widget-view+json": {
       "model_id": "a2c7feac2834423497d3ff9ceaeed1d4",
       "version_major": 2,
       "version_minor": 0
      },
      "text/plain": [
       "Pandas Apply:   0%|          | 0/3985 [00:00<?, ?it/s]"
      ]
     },
     "metadata": {},
     "output_type": "display_data"
    },
    {
     "name": "stdout",
     "output_type": "stream",
     "text": [
      "RIDAGEYR is bucketized with bucket_size: 9\n",
      "RIDRETH1 is categorical with dict_size: 4\n",
      "DMDEDUC2 is categorical with dict_size: 4\n",
      "DMDMARTL is categorical with dict_size: 5\n"
     ]
    },
    {
     "data": {
      "application/vnd.jupyter.widget-view+json": {
       "model_id": "05a637c1dd544c32a99dd7538457674a",
       "version_major": 2,
       "version_minor": 0
      },
      "text/plain": [
       "Pandas Apply:   0%|          | 0/3985 [00:00<?, ?it/s]"
      ]
     },
     "metadata": {},
     "output_type": "display_data"
    },
    {
     "name": "stdout",
     "output_type": "stream",
     "text": [
      "BMXBMI is bucketized with bucket_size: 9\n",
      "DPQ020 is categorical with dict_size: 1\n",
      "INDFMMPI is categorical with dict_size: 1\n"
     ]
    },
    {
     "data": {
      "application/vnd.jupyter.widget-view+json": {
       "model_id": "b5234971511d4bc3a93245b844ff145a",
       "version_major": 2,
       "version_minor": 0
      },
      "text/plain": [
       "Pandas Apply:   0%|          | 0/3985 [00:00<?, ?it/s]"
      ]
     },
     "metadata": {},
     "output_type": "display_data"
    },
    {
     "name": "stdout",
     "output_type": "stream",
     "text": [
      "LBXGH is bucketized with bucket_size: 9\n"
     ]
    },
    {
     "data": {
      "application/vnd.jupyter.widget-view+json": {
       "model_id": "75b89677b0e74a5689b28ffda60a39d4",
       "version_major": 2,
       "version_minor": 0
      },
      "text/plain": [
       "Pandas Apply:   0%|          | 0/3985 [00:00<?, ?it/s]"
      ]
     },
     "metadata": {},
     "output_type": "display_data"
    },
    {
     "name": "stdout",
     "output_type": "stream",
     "text": [
      "METS is bucketized with bucket_size: 9\n",
      "QMETS is categorical with dict_size: 3\n",
      "finflg is categorical with dict_size: 1\n",
      "\n",
      "[Info] Execution ----- completed\n"
     ]
    }
   ],
   "source": [
    "real_data, attr_info = preprocess(real_data, basic_info)"
   ]
  },
  {
   "cell_type": "code",
   "execution_count": 9,
   "id": "5436b830",
   "metadata": {},
   "outputs": [
    {
     "data": {
      "text/html": [
       "<div>\n",
       "<style scoped>\n",
       "    .dataframe tbody tr th:only-of-type {\n",
       "        vertical-align: middle;\n",
       "    }\n",
       "\n",
       "    .dataframe tbody tr th {\n",
       "        vertical-align: top;\n",
       "    }\n",
       "\n",
       "    .dataframe thead th {\n",
       "        text-align: right;\n",
       "    }\n",
       "</style>\n",
       "<table border=\"1\" class=\"dataframe\">\n",
       "  <thead>\n",
       "    <tr style=\"text-align: right;\">\n",
       "      <th></th>\n",
       "      <th>RIAGENDR</th>\n",
       "      <th>RIDAGEYR</th>\n",
       "      <th>RIDRETH1</th>\n",
       "      <th>DMDEDUC2</th>\n",
       "      <th>DMDMARTL</th>\n",
       "      <th>BMXBMI</th>\n",
       "      <th>DPQ020</th>\n",
       "      <th>INDFMMPI</th>\n",
       "      <th>LBXGH</th>\n",
       "      <th>METS</th>\n",
       "      <th>QMETS</th>\n",
       "      <th>finflg</th>\n",
       "    </tr>\n",
       "  </thead>\n",
       "  <tbody>\n",
       "    <tr>\n",
       "      <th>0</th>\n",
       "      <td>0</td>\n",
       "      <td>7</td>\n",
       "      <td>0</td>\n",
       "      <td>0</td>\n",
       "      <td>0</td>\n",
       "      <td>2</td>\n",
       "      <td>0</td>\n",
       "      <td>1</td>\n",
       "      <td>1</td>\n",
       "      <td>0</td>\n",
       "      <td>1</td>\n",
       "      <td>0</td>\n",
       "    </tr>\n",
       "    <tr>\n",
       "      <th>1</th>\n",
       "      <td>0</td>\n",
       "      <td>7</td>\n",
       "      <td>3</td>\n",
       "      <td>1</td>\n",
       "      <td>1</td>\n",
       "      <td>1</td>\n",
       "      <td>0</td>\n",
       "      <td>0</td>\n",
       "      <td>1</td>\n",
       "      <td>0</td>\n",
       "      <td>1</td>\n",
       "      <td>0</td>\n",
       "    </tr>\n",
       "    <tr>\n",
       "      <th>2</th>\n",
       "      <td>0</td>\n",
       "      <td>9</td>\n",
       "      <td>0</td>\n",
       "      <td>2</td>\n",
       "      <td>5</td>\n",
       "      <td>3</td>\n",
       "      <td>0</td>\n",
       "      <td>1</td>\n",
       "      <td>1</td>\n",
       "      <td>0</td>\n",
       "      <td>2</td>\n",
       "      <td>0</td>\n",
       "    </tr>\n",
       "    <tr>\n",
       "      <th>3</th>\n",
       "      <td>1</td>\n",
       "      <td>6</td>\n",
       "      <td>3</td>\n",
       "      <td>3</td>\n",
       "      <td>1</td>\n",
       "      <td>1</td>\n",
       "      <td>0</td>\n",
       "      <td>0</td>\n",
       "      <td>1</td>\n",
       "      <td>0</td>\n",
       "      <td>2</td>\n",
       "      <td>0</td>\n",
       "    </tr>\n",
       "    <tr>\n",
       "      <th>4</th>\n",
       "      <td>1</td>\n",
       "      <td>7</td>\n",
       "      <td>4</td>\n",
       "      <td>4</td>\n",
       "      <td>0</td>\n",
       "      <td>1</td>\n",
       "      <td>1</td>\n",
       "      <td>0</td>\n",
       "      <td>1</td>\n",
       "      <td>0</td>\n",
       "      <td>1</td>\n",
       "      <td>0</td>\n",
       "    </tr>\n",
       "  </tbody>\n",
       "</table>\n",
       "</div>"
      ],
      "text/plain": [
       "   RIAGENDR  RIDAGEYR  RIDRETH1  DMDEDUC2  DMDMARTL  BMXBMI  DPQ020  INDFMMPI  \\\n",
       "0         0         7         0         0         0       2       0         1   \n",
       "1         0         7         3         1         1       1       0         0   \n",
       "2         0         9         0         2         5       3       0         1   \n",
       "3         1         6         3         3         1       1       0         0   \n",
       "4         1         7         4         4         0       1       1         0   \n",
       "\n",
       "   LBXGH  METS  QMETS  finflg  \n",
       "0      1     0      1       0  \n",
       "1      1     0      1       0  \n",
       "2      1     0      2       0  \n",
       "3      1     0      2       0  \n",
       "4      1     0      1       0  "
      ]
     },
     "execution_count": 9,
     "metadata": {},
     "output_type": "execute_result"
    }
   ],
   "source": [
    "real_data.head(5)"
   ]
  },
  {
   "cell_type": "code",
   "execution_count": 10,
   "id": "85b2816d",
   "metadata": {},
   "outputs": [
    {
     "name": "stdout",
     "output_type": "stream",
     "text": [
      "RIAGENDR is categorical with dict_size: 1\n"
     ]
    },
    {
     "data": {
      "application/vnd.jupyter.widget-view+json": {
       "model_id": "f407cc53cad74a2b8660ca4e883dea17",
       "version_major": 2,
       "version_minor": 0
      },
      "text/plain": [
       "Pandas Apply:   0%|          | 0/3985 [00:00<?, ?it/s]"
      ]
     },
     "metadata": {},
     "output_type": "display_data"
    },
    {
     "name": "stdout",
     "output_type": "stream",
     "text": [
      "RIDAGEYR is bucketized with bucket_size: 9\n",
      "RIDRETH1 is categorical with dict_size: 4\n",
      "DMDEDUC2 is categorical with dict_size: 4\n",
      "DMDMARTL is categorical with dict_size: 5\n"
     ]
    },
    {
     "data": {
      "application/vnd.jupyter.widget-view+json": {
       "model_id": "9f1ecf9dd79147ea910b222d4a5c6814",
       "version_major": 2,
       "version_minor": 0
      },
      "text/plain": [
       "Pandas Apply:   0%|          | 0/3985 [00:00<?, ?it/s]"
      ]
     },
     "metadata": {},
     "output_type": "display_data"
    },
    {
     "name": "stdout",
     "output_type": "stream",
     "text": [
      "BMXBMI is bucketized with bucket_size: 9\n",
      "DPQ020 is categorical with dict_size: 1\n",
      "INDFMMPI is categorical with dict_size: 1\n"
     ]
    },
    {
     "data": {
      "application/vnd.jupyter.widget-view+json": {
       "model_id": "70de81bf12f844fa8cf5e493b81ffdf0",
       "version_major": 2,
       "version_minor": 0
      },
      "text/plain": [
       "Pandas Apply:   0%|          | 0/3985 [00:00<?, ?it/s]"
      ]
     },
     "metadata": {},
     "output_type": "display_data"
    },
    {
     "name": "stdout",
     "output_type": "stream",
     "text": [
      "LBXGH is bucketized with bucket_size: 9\n"
     ]
    },
    {
     "data": {
      "application/vnd.jupyter.widget-view+json": {
       "model_id": "f84ff0408cdc47a3b2a6cee37d7d7905",
       "version_major": 2,
       "version_minor": 0
      },
      "text/plain": [
       "Pandas Apply:   0%|          | 0/3985 [00:00<?, ?it/s]"
      ]
     },
     "metadata": {},
     "output_type": "display_data"
    },
    {
     "name": "stdout",
     "output_type": "stream",
     "text": [
      "METS is bucketized with bucket_size: 9\n",
      "QMETS is categorical with dict_size: 3\n",
      "finflg is categorical with dict_size: 1\n",
      "\n",
      "[Info] Execution ----- completed\n"
     ]
    }
   ],
   "source": [
    "synthetic_data, _ = preprocess(synthetic_data, basic_info)"
   ]
  },
  {
   "cell_type": "code",
   "execution_count": 11,
   "id": "0bec2f74",
   "metadata": {},
   "outputs": [
    {
     "data": {
      "text/html": [
       "<div>\n",
       "<style scoped>\n",
       "    .dataframe tbody tr th:only-of-type {\n",
       "        vertical-align: middle;\n",
       "    }\n",
       "\n",
       "    .dataframe tbody tr th {\n",
       "        vertical-align: top;\n",
       "    }\n",
       "\n",
       "    .dataframe thead th {\n",
       "        text-align: right;\n",
       "    }\n",
       "</style>\n",
       "<table border=\"1\" class=\"dataframe\">\n",
       "  <thead>\n",
       "    <tr style=\"text-align: right;\">\n",
       "      <th></th>\n",
       "      <th>RIAGENDR</th>\n",
       "      <th>RIDAGEYR</th>\n",
       "      <th>RIDRETH1</th>\n",
       "      <th>DMDEDUC2</th>\n",
       "      <th>DMDMARTL</th>\n",
       "      <th>BMXBMI</th>\n",
       "      <th>DPQ020</th>\n",
       "      <th>INDFMMPI</th>\n",
       "      <th>LBXGH</th>\n",
       "      <th>METS</th>\n",
       "      <th>QMETS</th>\n",
       "      <th>finflg</th>\n",
       "    </tr>\n",
       "  </thead>\n",
       "  <tbody>\n",
       "    <tr>\n",
       "      <th>0</th>\n",
       "      <td>1</td>\n",
       "      <td>7</td>\n",
       "      <td>4</td>\n",
       "      <td>2</td>\n",
       "      <td>1</td>\n",
       "      <td>2</td>\n",
       "      <td>0</td>\n",
       "      <td>0</td>\n",
       "      <td>1</td>\n",
       "      <td>0</td>\n",
       "      <td>3</td>\n",
       "      <td>0</td>\n",
       "    </tr>\n",
       "    <tr>\n",
       "      <th>1</th>\n",
       "      <td>1</td>\n",
       "      <td>6</td>\n",
       "      <td>4</td>\n",
       "      <td>2</td>\n",
       "      <td>1</td>\n",
       "      <td>2</td>\n",
       "      <td>0</td>\n",
       "      <td>0</td>\n",
       "      <td>0</td>\n",
       "      <td>0</td>\n",
       "      <td>3</td>\n",
       "      <td>0</td>\n",
       "    </tr>\n",
       "    <tr>\n",
       "      <th>2</th>\n",
       "      <td>0</td>\n",
       "      <td>7</td>\n",
       "      <td>4</td>\n",
       "      <td>2</td>\n",
       "      <td>1</td>\n",
       "      <td>2</td>\n",
       "      <td>0</td>\n",
       "      <td>0</td>\n",
       "      <td>2</td>\n",
       "      <td>0</td>\n",
       "      <td>0</td>\n",
       "      <td>0</td>\n",
       "    </tr>\n",
       "    <tr>\n",
       "      <th>3</th>\n",
       "      <td>1</td>\n",
       "      <td>6</td>\n",
       "      <td>4</td>\n",
       "      <td>2</td>\n",
       "      <td>1</td>\n",
       "      <td>2</td>\n",
       "      <td>0</td>\n",
       "      <td>0</td>\n",
       "      <td>9</td>\n",
       "      <td>0</td>\n",
       "      <td>2</td>\n",
       "      <td>1</td>\n",
       "    </tr>\n",
       "    <tr>\n",
       "      <th>4</th>\n",
       "      <td>0</td>\n",
       "      <td>6</td>\n",
       "      <td>4</td>\n",
       "      <td>2</td>\n",
       "      <td>1</td>\n",
       "      <td>2</td>\n",
       "      <td>0</td>\n",
       "      <td>0</td>\n",
       "      <td>3</td>\n",
       "      <td>0</td>\n",
       "      <td>3</td>\n",
       "      <td>0</td>\n",
       "    </tr>\n",
       "  </tbody>\n",
       "</table>\n",
       "</div>"
      ],
      "text/plain": [
       "   RIAGENDR  RIDAGEYR  RIDRETH1  DMDEDUC2  DMDMARTL  BMXBMI  DPQ020  INDFMMPI  \\\n",
       "0         1         7         4         2         1       2       0         0   \n",
       "1         1         6         4         2         1       2       0         0   \n",
       "2         0         7         4         2         1       2       0         0   \n",
       "3         1         6         4         2         1       2       0         0   \n",
       "4         0         6         4         2         1       2       0         0   \n",
       "\n",
       "   LBXGH  METS  QMETS  finflg  \n",
       "0      1     0      3       0  \n",
       "1      0     0      3       0  \n",
       "2      2     0      0       0  \n",
       "3      9     0      2       1  \n",
       "4      3     0      3       0  "
      ]
     },
     "execution_count": 11,
     "metadata": {},
     "output_type": "execute_result"
    }
   ],
   "source": [
    "synthetic_data.head(5)"
   ]
  },
  {
   "cell_type": "markdown",
   "id": "69f5a8ca",
   "metadata": {},
   "source": [
    "## <font color='blue'>Building Contingency tables</font>"
   ]
  },
  {
   "cell_type": "code",
   "execution_count": 12,
   "id": "0be4b7a1",
   "metadata": {},
   "outputs": [],
   "source": [
    "#### Need some smooth function in the future\n",
    "\n",
    "def build_zero_table(attr_info, attr_name):\n",
    "    attr_sizes = []\n",
    "    for element in attr_name:\n",
    "        attr_sizes.append(range(attr_info[element]['max'] + 1))\n",
    "    attr_sizes_extend = list(itertools.product(*attr_sizes))\n",
    "\n",
    "    marginal_table = {}\n",
    "    marginal_table = {ele:0 for ele in attr_sizes_extend}\n",
    "    del attr_sizes_extend\n",
    "    return marginal_table\n",
    "\n",
    "def empirical_counting_single(raw_data, attr_name, zero_table):\n",
    "    tmp_dict = copy.deepcopy(zero_table)\n",
    "    marginal_count = raw_data.groupby(attr_name)[attr_name[0]].count()\n",
    "    marginal_count = marginal_count.to_dict()\n",
    "    for event in marginal_count.keys():\n",
    "        tmp_dict[event] = tmp_dict[event] + marginal_count[event]\n",
    "    del marginal_count\n",
    "    return tmp_dict\n",
    "\n",
    "def build_fake_table(attr_name, zero_table, real_data, data_size):\n",
    "    zero_dict = copy.deepcopy(zero_table)\n",
    "    sample_all = []\n",
    "    for attr in attr_name:\n",
    "        gen_series = []\n",
    "        tmp_dict = real_data[attr].value_counts()\n",
    "        tmp_keys = real_data[attr].value_counts().keys().tolist()\n",
    "        for key in tmp_keys:\n",
    "            for idx in range(tmp_dict[key]):\n",
    "                gen_series.append(key)\n",
    "        sample_all.append(gen_series)\n",
    "        del gen_series, tmp_keys, tmp_dict\n",
    "    #### shuffle\n",
    "    for idx in range(len(attr_name)):\n",
    "        random.shuffle(sample_all[idx])\n",
    "    for idx in range(data_size):\n",
    "        gen_record = []\n",
    "        for attr_idx in range(len(attr_name)):\n",
    "            gen_record.append(sample_all[attr_idx][idx])        \n",
    "        zero_dict[tuple(gen_record)] += 1\n",
    "        del gen_record\n",
    "    del sample_all\n",
    "    return zero_dict"
   ]
  },
  {
   "cell_type": "code",
   "execution_count": 13,
   "id": "99410553",
   "metadata": {},
   "outputs": [],
   "source": [
    "zero_table = build_zero_table(attr_info, attr_name)\n",
    "real_contingency_table = empirical_counting_single(real_data, attr_name, zero_table)\n",
    "syn_contingency_table = empirical_counting_single(synthetic_data, attr_name, zero_table)\n",
    "fake_contingency_table = build_fake_table(attr_name, zero_table, real_data, data_size)\n",
    "if simulate_input_real:\n",
    "    syn_contingency_table = copy.deepcopy(real_contingency_table)\n",
    "del zero_table"
   ]
  },
  {
   "cell_type": "markdown",
   "id": "fd7ae92b",
   "metadata": {},
   "source": [
    "## <font color='blue'>K-NN</font>"
   ]
  },
  {
   "cell_type": "code",
   "execution_count": 14,
   "id": "3043f2ff",
   "metadata": {},
   "outputs": [],
   "source": [
    "from sklearn.neighbors import NearestNeighbors"
   ]
  },
  {
   "cell_type": "code",
   "execution_count": 15,
   "id": "3af9ae93",
   "metadata": {},
   "outputs": [],
   "source": [
    "### Hyperparameters\n",
    "K = 5\n",
    "BATCH_SIZE = 10"
   ]
  },
  {
   "cell_type": "code",
   "execution_count": 16,
   "id": "ec10f9df",
   "metadata": {},
   "outputs": [],
   "source": [
    "def find_knn(nn_obj, query_samples):\n",
    "    dist = []\n",
    "    idx = []\n",
    "    for i in tqdm(range(len(query_samples) // BATCH_SIZE)):\n",
    "        x_batch = query_samples[i * BATCH_SIZE:(i + 1) * BATCH_SIZE]\n",
    "        x_batch = np.reshape(x_batch, [BATCH_SIZE, -1])\n",
    "        dist_batch, idx_batch = nn_obj.kneighbors(x_batch, K)\n",
    "        dist.append(dist_batch)\n",
    "        idx.append(idx_batch)\n",
    "\n",
    "    try:\n",
    "        dist = np.concatenate(dist)\n",
    "        idx = np.concatenate(idx)\n",
    "    except:\n",
    "        dist = np.array(dist)\n",
    "        idx = np.array(idx)\n",
    "    return dist, idx\n",
    "\n",
    "def expanding_samples(contingency_table):\n",
    "    key_list = list(contingency_table.keys())\n",
    "    expanding = []\n",
    "    for key in key_list:\n",
    "        for count in range(contingency_table[key]):\n",
    "            expanding.append(key)\n",
    "    del key_list\n",
    "    random.shuffle(expanding)\n",
    "    return expanding"
   ]
  },
  {
   "cell_type": "code",
   "execution_count": 17,
   "id": "fb269ecb",
   "metadata": {},
   "outputs": [],
   "source": [
    "#### expanding datasample\n",
    "real_samples = np.array(expanding_samples(real_contingency_table))\n",
    "fake_samples = np.array(expanding_samples(fake_contingency_table))\n",
    "test_samples = np.array(expanding_samples(syn_contingency_table))\n",
    "del real_contingency_table, fake_contingency_table, syn_contingency_table"
   ]
  },
  {
   "cell_type": "code",
   "execution_count": 18,
   "id": "5b0aaac5",
   "metadata": {},
   "outputs": [
    {
     "data": {
      "text/plain": [
       "NearestNeighbors(n_jobs=16)"
      ]
     },
     "execution_count": 18,
     "metadata": {},
     "output_type": "execute_result"
    }
   ],
   "source": [
    "#### training stage\n",
    "nn_obj = NearestNeighbors(n_neighbors=K, n_jobs=16)\n",
    "nn_obj.fit(test_samples)"
   ]
  },
  {
   "cell_type": "code",
   "execution_count": 19,
   "id": "561b2f95",
   "metadata": {},
   "outputs": [
    {
     "name": "stderr",
     "output_type": "stream",
     "text": [
      "100%|██████████| 199/199 [00:01<00:00, 157.77it/s]\n",
      "100%|██████████| 199/199 [00:01<00:00, 176.14it/s]\n"
     ]
    }
   ],
   "source": [
    "#### randomly query selection\n",
    "if strategy == \"Half\":\n",
    "    gen_num = int(data_size//2)+1\n",
    "    pos_query_samplegs = real_samples[:gen_num]\n",
    "    neg_query_samplegs = fake_samples[:gen_num]\n",
    "else:\n",
    "    pos_query_samplegs = real_samples[:]\n",
    "    neg_query_samplegs = fake_samples[:]\n",
    "\n",
    "#### compute distance\n",
    "pos_loss, pos_idx = find_knn(nn_obj, pos_query_samplegs)\n",
    "neg_loss, neg_idx = find_knn(nn_obj, neg_query_samplegs)\n",
    "\n",
    "pos_loss = np.min(pos_loss, axis =1)\n",
    "neg_loss = np.min(neg_loss, axis =1)"
   ]
  },
  {
   "cell_type": "markdown",
   "id": "785463ed",
   "metadata": {},
   "source": [
    "## <font color='blue'>AUC ROC</font>"
   ]
  },
  {
   "cell_type": "code",
   "execution_count": 20,
   "id": "27392b59",
   "metadata": {},
   "outputs": [],
   "source": [
    "def plot_roc(pos_results, neg_results):\n",
    "    labels = np.concatenate((np.zeros((len(neg_results),)), np.ones((len(pos_results),))))\n",
    "    results = np.concatenate((neg_results, pos_results))\n",
    "    \n",
    "    fpr, tpr, threshold = metrics.roc_curve(labels, results, pos_label=1)\n",
    "    auc = metrics.roc_auc_score(labels, results)\n",
    "    ap = metrics.average_precision_score(labels, results)\n",
    "    return fpr, tpr, threshold, auc, ap"
   ]
  },
  {
   "cell_type": "code",
   "execution_count": 21,
   "id": "f38e9683",
   "metadata": {},
   "outputs": [
    {
     "name": "stderr",
     "output_type": "stream",
     "text": [
      "No artists with labels found to put in legend.  Note that artists whose label start with an underscore are ignored when legend() is called with no argument.\n"
     ]
    },
    {
     "name": "stdout",
     "output_type": "stream",
     "text": [
      "The AUC ROC value of Full Black-Box attack is: 0.991 \n"
     ]
    },
    {
     "data": {
      "image/png": "[encoded data removed]",
      "text/plain": [
       "<Figure size 640x480 with 1 Axes>"
      ]
     },
     "metadata": {},
     "output_type": "display_data"
    }
   ],
   "source": [
    "fpr, tpr, threshold, auc, ap = plot_roc(-pos_loss, -neg_loss)\n",
    "plt.legend(loc='lower right')\n",
    "plt.xlabel('false positive')\n",
    "plt.ylabel('true positive')\n",
    "plt.title('ROC curve')\n",
    "plt.plot(fpr, tpr, label='%s attack, auc=%.3f, ap=%.3f' % ('Full Black-Box', auc, ap))\n",
    "print(\"The AUC ROC value of %s attack is: %.3f \" % ('Full Black-Box', auc))"
   ]
  },
  {
   "cell_type": "code",
   "execution_count": null,
   "id": "1b185c07",
   "metadata": {},
   "outputs": [],
   "source": []
  },
  {
   "cell_type": "code",
   "execution_count": null,
   "id": "92db14bd",
   "metadata": {},
   "outputs": [],
   "source": []
  }
 ],
 "metadata": {
  "kernelspec": {
   "display_name": "Python 3 (ipykernel)",
   "language": "python",
   "name": "python3"
  },
  "language_info": {
   "codemirror_mode": {
    "name": "ipython",
    "version": 3
   },
   "file_extension": ".py",
   "mimetype": "text/x-python",
   "name": "python",
   "nbconvert_exporter": "python",
   "pygments_lexer": "ipython3",
   "version": "3.9.13"
  }
 },
 "nbformat": 4,
 "nbformat_minor": 5
}
